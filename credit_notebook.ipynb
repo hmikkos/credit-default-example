{
 "cells": [
  {
   "attachments": {},
   "cell_type": "markdown",
   "metadata": {},
   "source": [
    "# CREDIT DEFAULT \n"
   ]
  },
  {
   "cell_type": "code",
   "execution_count": 92,
   "metadata": {},
   "outputs": [],
   "source": [
    "import numpy as np\n",
    "import pandas as pd \n",
    "\n",
    "import warnings\n",
    "warnings.filterwarnings('ignore')\n",
    "\n",
    "from tqdm import tqdm_notebook, tqdm\n",
    "\n",
    "import datetime\n",
    "\n",
    "%matplotlib inline \n",
    "import matplotlib.pyplot as plt \n",
    "\n",
    "from sklearn.preprocessing import LabelEncoder, OneHotEncoder, StandardScaler\n",
    "from sklearn.model_selection import train_test_split\n",
    "\n",
    "from sklearn import metrics"
   ]
  },
  {
   "attachments": {},
   "cell_type": "markdown",
   "metadata": {},
   "source": [
    "# Introduction\n",
    "\n",
    "### The Data Source\n",
    "We've been provided a credit default dataset that consists of 5380 records, each characterized by 19 distinct features. The feature set is diverse, including date values, numerical entries, and categorical variables. We will examine each feature type and devise strategies to deal with any NaN or infeasible values present in the dataset, which will prepare it for subsequent modeling.\n",
    "\n",
    "### The Challenge\n",
    "This is a tabular problem requiring us to execute a classification task, which is somewhat unique due to the dataset's imbalance. We'll explore methods such as resampling or using a model specifically designed for handling such cases to tackle this issue.\n",
    "\n",
    "### The Strategy\n",
    "Initially, our focus will be on data exploration and deducing relevant transformations based on our findings. Following this, we'll develop a processing pipeline. The dataset will be divided into three subsets: training, validation, and testing. The testing subset will be reserved until the very end to validate that our model has not been overfitted on the validation set. Subsequently, we will experiment with various models, identify the one with the most potential, and optimize its hyperparameters. Finally, we'll evaluate our ultimate performance on the test set and study the importance of each feature.\n",
    "\n",
    "### The Performance Indicators\n",
    "The performance of our model will be assessed using accuracy and ROC AUC score, which are standard metrics in classification tasks."
   ]
  },
  {
   "attachments": {},
   "cell_type": "markdown",
   "metadata": {},
   "source": [
    "# 1. Exploration and transformation of the data"
   ]
  },
  {
   "attachments": {},
   "cell_type": "markdown",
   "metadata": {},
   "source": [
    "## 1.1. A first glance at the data "
   ]
  },
  {
   "cell_type": "code",
   "execution_count": 93,
   "metadata": {
    "scrolled": false
   },
   "outputs": [
    {
     "data": {
      "text/html": [
       "<div>\n",
       "<style scoped>\n",
       "    .dataframe tbody tr th:only-of-type {\n",
       "        vertical-align: middle;\n",
       "    }\n",
       "\n",
       "    .dataframe tbody tr th {\n",
       "        vertical-align: top;\n",
       "    }\n",
       "\n",
       "    .dataframe thead th {\n",
       "        text-align: right;\n",
       "    }\n",
       "</style>\n",
       "<table border=\"1\" class=\"dataframe\">\n",
       "  <thead>\n",
       "    <tr style=\"text-align: right;\">\n",
       "      <th></th>\n",
       "      <th>Id_Customer</th>\n",
       "      <th>Y</th>\n",
       "      <th>Customer_Type</th>\n",
       "      <th>BirthDate</th>\n",
       "      <th>Customer_Open_Date</th>\n",
       "      <th>P_Client</th>\n",
       "      <th>Educational_Level</th>\n",
       "      <th>Marital_Status</th>\n",
       "      <th>Number_Of_Dependant</th>\n",
       "      <th>Years_At_Residence</th>\n",
       "      <th>Net_Annual_Income</th>\n",
       "      <th>Years_At_Business</th>\n",
       "      <th>Prod_Sub_Category</th>\n",
       "      <th>Prod_Decision_Date</th>\n",
       "      <th>Source</th>\n",
       "      <th>Type_Of_Residence</th>\n",
       "      <th>Nb_Of_Products</th>\n",
       "      <th>Prod_Closed_Date</th>\n",
       "      <th>Prod_Category</th>\n",
       "    </tr>\n",
       "  </thead>\n",
       "  <tbody>\n",
       "    <tr>\n",
       "      <td>0</td>\n",
       "      <td>7440</td>\n",
       "      <td>0</td>\n",
       "      <td>Non Existing Client</td>\n",
       "      <td>1977-07-08</td>\n",
       "      <td>2012-02-13</td>\n",
       "      <td>NP_Client</td>\n",
       "      <td>University</td>\n",
       "      <td>Married</td>\n",
       "      <td>3.0</td>\n",
       "      <td>1</td>\n",
       "      <td>36</td>\n",
       "      <td>1.0</td>\n",
       "      <td>C</td>\n",
       "      <td>2012-02-14</td>\n",
       "      <td>Sales</td>\n",
       "      <td>Owned</td>\n",
       "      <td>1</td>\n",
       "      <td>NaT</td>\n",
       "      <td>B</td>\n",
       "    </tr>\n",
       "    <tr>\n",
       "      <td>1</td>\n",
       "      <td>573</td>\n",
       "      <td>0</td>\n",
       "      <td>Existing Client</td>\n",
       "      <td>1974-06-13</td>\n",
       "      <td>2009-04-02</td>\n",
       "      <td>P_Client</td>\n",
       "      <td>University</td>\n",
       "      <td>Married</td>\n",
       "      <td>0.0</td>\n",
       "      <td>12</td>\n",
       "      <td>18</td>\n",
       "      <td>2.0</td>\n",
       "      <td>C</td>\n",
       "      <td>2011-06-30</td>\n",
       "      <td>Sales</td>\n",
       "      <td>Parents</td>\n",
       "      <td>1</td>\n",
       "      <td>NaT</td>\n",
       "      <td>G</td>\n",
       "    </tr>\n",
       "    <tr>\n",
       "      <td>2</td>\n",
       "      <td>9194</td>\n",
       "      <td>0</td>\n",
       "      <td>Non Existing Client</td>\n",
       "      <td>1973-07-11</td>\n",
       "      <td>2012-03-04</td>\n",
       "      <td>NP_Client</td>\n",
       "      <td>University</td>\n",
       "      <td>Married</td>\n",
       "      <td>2.0</td>\n",
       "      <td>10</td>\n",
       "      <td>36</td>\n",
       "      <td>1.0</td>\n",
       "      <td>C</td>\n",
       "      <td>2012-04-04</td>\n",
       "      <td>Sales</td>\n",
       "      <td>Owned</td>\n",
       "      <td>1</td>\n",
       "      <td>NaT</td>\n",
       "      <td>B</td>\n",
       "    </tr>\n",
       "    <tr>\n",
       "      <td>3</td>\n",
       "      <td>3016</td>\n",
       "      <td>1</td>\n",
       "      <td>Existing Client</td>\n",
       "      <td>1982-08-07</td>\n",
       "      <td>2011-08-25</td>\n",
       "      <td>NP_Client</td>\n",
       "      <td>University</td>\n",
       "      <td>Married</td>\n",
       "      <td>3.0</td>\n",
       "      <td>3</td>\n",
       "      <td>36</td>\n",
       "      <td>1.0</td>\n",
       "      <td>C</td>\n",
       "      <td>2011-07-09</td>\n",
       "      <td>Sales</td>\n",
       "      <td>New rent</td>\n",
       "      <td>1</td>\n",
       "      <td>2012-12-31</td>\n",
       "      <td>L</td>\n",
       "    </tr>\n",
       "    <tr>\n",
       "      <td>4</td>\n",
       "      <td>6524</td>\n",
       "      <td>0</td>\n",
       "      <td>Non Existing Client</td>\n",
       "      <td>1953-08-18</td>\n",
       "      <td>2012-10-01</td>\n",
       "      <td>NP_Client</td>\n",
       "      <td>University</td>\n",
       "      <td>Married</td>\n",
       "      <td>2.0</td>\n",
       "      <td>1</td>\n",
       "      <td>36</td>\n",
       "      <td>1.0</td>\n",
       "      <td>C</td>\n",
       "      <td>2012-11-01</td>\n",
       "      <td>Sales</td>\n",
       "      <td>Owned</td>\n",
       "      <td>1</td>\n",
       "      <td>NaT</td>\n",
       "      <td>D</td>\n",
       "    </tr>\n",
       "  </tbody>\n",
       "</table>\n",
       "</div>"
      ],
      "text/plain": [
       "   Id_Customer  Y        Customer_Type  BirthDate Customer_Open_Date  \\\n",
       "0         7440  0  Non Existing Client 1977-07-08         2012-02-13   \n",
       "1          573  0      Existing Client 1974-06-13         2009-04-02   \n",
       "2         9194  0  Non Existing Client 1973-07-11         2012-03-04   \n",
       "3         3016  1      Existing Client 1982-08-07         2011-08-25   \n",
       "4         6524  0  Non Existing Client 1953-08-18         2012-10-01   \n",
       "\n",
       "    P_Client Educational_Level Marital_Status  Number_Of_Dependant  \\\n",
       "0  NP_Client        University        Married                  3.0   \n",
       "1   P_Client        University        Married                  0.0   \n",
       "2  NP_Client        University        Married                  2.0   \n",
       "3  NP_Client        University        Married                  3.0   \n",
       "4  NP_Client        University        Married                  2.0   \n",
       "\n",
       "   Years_At_Residence Net_Annual_Income  Years_At_Business Prod_Sub_Category  \\\n",
       "0                   1                36                1.0                 C   \n",
       "1                  12                18                2.0                 C   \n",
       "2                  10                36                1.0                 C   \n",
       "3                   3                36                1.0                 C   \n",
       "4                   1                36                1.0                 C   \n",
       "\n",
       "  Prod_Decision_Date Source Type_Of_Residence  Nb_Of_Products  \\\n",
       "0         2012-02-14  Sales             Owned               1   \n",
       "1         2011-06-30  Sales           Parents               1   \n",
       "2         2012-04-04  Sales             Owned               1   \n",
       "3         2011-07-09  Sales          New rent               1   \n",
       "4         2012-11-01  Sales             Owned               1   \n",
       "\n",
       "  Prod_Closed_Date Prod_Category  \n",
       "0              NaT             B  \n",
       "1              NaT             G  \n",
       "2              NaT             B  \n",
       "3       2012-12-31             L  \n",
       "4              NaT             D  "
      ]
     },
     "execution_count": 93,
     "metadata": {},
     "output_type": "execute_result"
    }
   ],
   "source": [
    "data = pd.read_csv('data/CreditTraining.csv', parse_dates=[3, 4, 13, 17])\n",
    "data.head(15)"
   ]
  },
  {
   "attachments": {},
   "cell_type": "markdown",
   "metadata": {},
   "source": [
    "We can already delete the Id_Customer feature, which is a identification variable, but this role is already taken by our index, hence we have no reason to keep this value."
   ]
  },
  {
   "cell_type": "code",
   "execution_count": 94,
   "metadata": {
    "scrolled": true
   },
   "outputs": [],
   "source": [
    "data = data.drop(columns=['Id_Customer'])"
   ]
  },
  {
   "attachments": {},
   "cell_type": "markdown",
   "metadata": {},
   "source": [
    "### Minor fixes \n",
    "\n",
    "The feature Net_Annual_Income is not considered as a float but as a string. To do so, we need to replace the ',' in '.' and then to convert the string to a float."
   ]
  },
  {
   "cell_type": "code",
   "execution_count": 95,
   "metadata": {},
   "outputs": [],
   "source": [
    "data['Net_Annual_Income'] = data['Net_Annual_Income'].str.replace(',', '.').astype(float)"
   ]
  },
  {
   "attachments": {},
   "cell_type": "markdown",
   "metadata": {},
   "source": [
    "## 1.2. Target Value"
   ]
  },
  {
   "cell_type": "code",
   "execution_count": 96,
   "metadata": {},
   "outputs": [
    {
     "data": {
      "image/png": "[encoded data removed]",
      "text/plain": [
       "<Figure size 1080x288 with 1 Axes>"
      ]
     },
     "metadata": {
      "needs_background": "light"
     },
     "output_type": "display_data"
    }
   ],
   "source": [
    "fig = plt.figure(figsize=(15, 4))\n",
    "plt.hist(data['Y'], bins = 2)\n",
    "plt.title(\"Credit default\")\n",
    "plt.ylabel('Value occurence')\n",
    "plt.xlabel(\"Value\")\n",
    "# plt.grid()\n",
    "plt.show()"
   ]
  },
  {
   "attachments": {},
   "cell_type": "markdown",
   "metadata": {},
   "source": [
    "It's evident that our data is heavily skewed. As a result, we should consider using a model designed to manage this imbalance effectively or alternatively, we could resample the data to achieve a more balanced distribution, especially if our aim is to use a neural network."
   ]
  },
  {
   "attachments": {},
   "cell_type": "markdown",
   "metadata": {},
   "source": [
    "## 1.3. Managing Date Values\n",
    "\n",
    "In this scenario, we're not processing the data as time series, as the specific timestamps aren't crucial. However, time deltas, or intervals between dates, are relevant to our case, so we'll convert these timestamps into time deltas and subsequently convert them into floating-point numbers by dividing them by a certain time unit!\n",
    "\n",
    "We have the following date values:\n",
    "\n",
    "-BirthDate\n",
    "-Customer_Open_Date\n",
    "-Prod_Decision_Date\n",
    "-Prod_Closed_Date\n",
    "\n",
    "Here are the transformations we'll apply:\n",
    "\n",
    "-For Customer_Open_Date, we'll compute the difference in days between the most recent Customer_Open_Date and the current one, thereby obtaining a positive count of days.\n",
    "-Instead of using the BirthDate, it's more reasonable to calculate the customer's age at the time of decision-making (i.e., Prod_Decision_Date). Therefore, we'll compute the number of days the customer has lived by the time the decision is made and assign this value to a new variable, Age_At_Decision.\n",
    "Prod_Decision_Date will be expressed as the difference in days from the most recent one.\n",
    "We'll adopt the same approach for Prod_Closed_Date.\n"
   ]
  },
  {
   "cell_type": "code",
   "execution_count": 97,
   "metadata": {},
   "outputs": [],
   "source": [
    "ONE_DAY = datetime.timedelta(days = 1)"
   ]
  },
  {
   "cell_type": "code",
   "execution_count": 98,
   "metadata": {},
   "outputs": [],
   "source": [
    "# open date\n",
    "data['Customer_Open_Date'] = (data['Customer_Open_Date'].max() - data['Customer_Open_Date']) / ONE_DAY\n",
    "# birthdate \n",
    "data['Age_At_Decision'] = (data['Prod_Decision_Date'] - data['BirthDate']) / ONE_DAY\n",
    "data['BirthDate'] = (data['Prod_Decision_Date'].max() - data['BirthDate']) / ONE_DAY\n",
    "# prod decision date\n",
    "data['Prod_Decision_Date'] = (data['Prod_Decision_Date'].max() - data['Prod_Decision_Date']) / ONE_DAY"
   ]
  },
  {
   "attachments": {},
   "cell_type": "markdown",
   "metadata": {},
   "source": [
    "As there seems to be a huge correlation between the feature Prod_Closed_Date and the credit default, the high number of NaN is not sufficient at all to delete it ! We just replace them with 0."
   ]
  },
  {
   "cell_type": "code",
   "execution_count": 99,
   "metadata": {},
   "outputs": [],
   "source": [
    "data['Prod_Closed_Date'] = (data['Prod_Closed_Date'].max() - data['Prod_Closed_Date']) / ONE_DAY\n",
    "data['Prod_Closed_Date'] = data['Prod_Closed_Date'].fillna(-1)"
   ]
  },
  {
   "attachments": {},
   "cell_type": "markdown",
   "metadata": {},
   "source": [
    "## 1.4. Let's explore the continuous features\n",
    "\n",
    "We draw histograms for the continuous variables, see if we observe anything, maybe outliers..."
   ]
  },
  {
   "attachments": {},
   "cell_type": "markdown",
   "metadata": {},
   "source": [
    "### 1.4.1. Visualisation"
   ]
  },
  {
   "cell_type": "code",
   "execution_count": 100,
   "metadata": {},
   "outputs": [],
   "source": [
    "CONTINUOUS_FEATURES = {\n",
    "    'BirthDate': 100,\n",
    "    'Customer_Open_Date': 100,\n",
    "    'Number_Of_Dependant': 20,\n",
    "    'Years_At_Residence': 60,\n",
    "    'Net_Annual_Income': 100,\n",
    "    'Years_At_Business': 100,\n",
    "    'Prod_Decision_Date': 70,\n",
    "    'Nb_Of_Products': 3,\n",
    "    'Prod_Closed_Date': 30\n",
    "}"
   ]
  },
  {
   "cell_type": "code",
   "execution_count": 101,
   "metadata": {},
   "outputs": [
    {
     "data": {
      "image/png": "[encoded data removed]",
      "text/plain": [
       "<Figure size 1440x2160 with 10 Axes>"
      ]
     },
     "metadata": {
      "needs_background": "light"
     },
     "output_type": "display_data"
    }
   ],
   "source": [
    "N = len(CONTINUOUS_FEATURES.keys())\n",
    "Nx = N // 2 + N % 2\n",
    "\n",
    "fig, axs = plt.subplots(Nx, 2, figsize=(20, Nx * 6))\n",
    "nx, ny = 0, 0\n",
    "for i, plot_infos in enumerate(CONTINUOUS_FEATURES.items()):\n",
    "    feature, n_bins = plot_infos\n",
    "    \n",
    "    # manage plot\n",
    "    axs[nx, ny].hist(data[feature], bins = n_bins)\n",
    "    axs[nx, ny].set_title(feature)\n",
    "    \n",
    "    # generate new indices for the next subplot\n",
    "    nx += (i%2 == 1)*1\n",
    "    ny = 1 - i%2 \n",
    "    \n",
    "plt.show()"
   ]
  },
  {
   "attachments": {},
   "cell_type": "markdown",
   "metadata": {},
   "source": [
    "## 1.4.2 Evaluation\n",
    "These graphical representations enable us to glean invaluable insights, prompting us to slightly modify the data.\n",
    "\n",
    "-Regarding the Years_At_Business variable, there appear to be some anomalous values, around 100, which aren't realistic. We'll substitute these with more plausible values.\n",
    "\n",
    "-We see a similar pattern with Customer_Open_Date, which is around 10000 days or approximately 30 years. However, these values are plausible and hence, we'll retain them.\n",
    "\n",
    "-With respect to the Years_At_Residence variable, it's intriguing to notice extremely high spikes at around 10, 20, 30 years, suggesting that customers provided rounded-off answers. This indicates that the data is somewhat skewed and not evenly distributed, which could potentially be problematic for certain models like logistic regression. However, other models such as decision trees and XGBOOST, which we intend to use, are not impacted by such irregularities. As such, we will not adjust this aspect of the data."
   ]
  },
  {
   "attachments": {},
   "cell_type": "markdown",
   "metadata": {},
   "source": [
    "### 1.4.3 Removing the outliers\n",
    "\n",
    "**Modify unfeasible data**:\n",
    "You cannot spend more years in a residence or working than you spend on earth... which is why we make sure that all the values are feasible, and if they are not, we replace them by feasible values ! Instead of taking the mean value, we use a approximate linear regression, saying that it is equal to 1 x Age + constant, with constant being 18 or 22."
   ]
  },
  {
   "cell_type": "code",
   "execution_count": 102,
   "metadata": {},
   "outputs": [],
   "source": [
    "data['Age'] = (data['BirthDate']) / (365)"
   ]
  },
  {
   "cell_type": "code",
   "execution_count": 103,
   "metadata": {},
   "outputs": [
    {
     "name": "stderr",
     "output_type": "stream",
     "text": [
      "100%|██████████| 5380/5380 [00:00<00:00, 14779.20it/s]\n"
     ]
    }
   ],
   "source": [
    "for i in tqdm(range(data.shape[0])):\n",
    "   diff_res = data['Age'][i] - data['Years_At_Residence'][i]\n",
    "   diff_bus = data['Age'][i] - data['Years_At_Business'][i]\n",
    "   if (diff_res < 0):\n",
    "       data['Years_At_Residence'][i] = max(1, data['Age'][i] - 18)\n",
    "   if (diff_bus < 10):\n",
    "       data['Years_At_Business'][i] = max(1, data['Age'][i] - 22)"
   ]
  },
  {
   "cell_type": "code",
   "execution_count": 104,
   "metadata": {},
   "outputs": [],
   "source": [
    "data = data.drop(columns=['Age'])"
   ]
  },
  {
   "attachments": {},
   "cell_type": "markdown",
   "metadata": {},
   "source": [
    "### 1.4.3. Handle NaN values\n",
    "We search were the NaN are."
   ]
  },
  {
   "cell_type": "code",
   "execution_count": 105,
   "metadata": {
    "scrolled": true
   },
   "outputs": [
    {
     "data": {
      "text/plain": [
       "Y                      0\n",
       "Customer_Type          0\n",
       "BirthDate              0\n",
       "Customer_Open_Date     0\n",
       "P_Client               0\n",
       "Educational_Level      0\n",
       "Marital_Status         0\n",
       "Number_Of_Dependant    2\n",
       "Years_At_Residence     0\n",
       "Net_Annual_Income      2\n",
       "Years_At_Business      2\n",
       "Prod_Sub_Category      0\n",
       "Prod_Decision_Date     0\n",
       "Source                 0\n",
       "Type_Of_Residence      0\n",
       "Nb_Of_Products         0\n",
       "Prod_Closed_Date       0\n",
       "Prod_Category          0\n",
       "Age_At_Decision        0\n",
       "dtype: int64"
      ]
     },
     "execution_count": 105,
     "metadata": {},
     "output_type": "execute_result"
    }
   ],
   "source": [
    "data.isna().sum()"
   ]
  },
  {
   "attachments": {},
   "cell_type": "markdown",
   "metadata": {},
   "source": [
    "For the unfeasible data, we replaced absurd values thanks to a quick approximation of a linear regression. Here we can hardly do this, hence we simply replace the NaN values with the mean of the feature. "
   ]
  },
  {
   "cell_type": "code",
   "execution_count": 106,
   "metadata": {},
   "outputs": [
    {
     "data": {
      "text/html": [
       "<div>\n",
       "<style scoped>\n",
       "    .dataframe tbody tr th:only-of-type {\n",
       "        vertical-align: middle;\n",
       "    }\n",
       "\n",
       "    .dataframe tbody tr th {\n",
       "        vertical-align: top;\n",
       "    }\n",
       "\n",
       "    .dataframe thead th {\n",
       "        text-align: right;\n",
       "    }\n",
       "</style>\n",
       "<table border=\"1\" class=\"dataframe\">\n",
       "  <thead>\n",
       "    <tr style=\"text-align: right;\">\n",
       "      <th></th>\n",
       "      <th>Y</th>\n",
       "      <th>Customer_Type</th>\n",
       "      <th>BirthDate</th>\n",
       "      <th>Customer_Open_Date</th>\n",
       "      <th>P_Client</th>\n",
       "      <th>Educational_Level</th>\n",
       "      <th>Marital_Status</th>\n",
       "      <th>Number_Of_Dependant</th>\n",
       "      <th>Years_At_Residence</th>\n",
       "      <th>Net_Annual_Income</th>\n",
       "      <th>Years_At_Business</th>\n",
       "      <th>Prod_Sub_Category</th>\n",
       "      <th>Prod_Decision_Date</th>\n",
       "      <th>Source</th>\n",
       "      <th>Type_Of_Residence</th>\n",
       "      <th>Nb_Of_Products</th>\n",
       "      <th>Prod_Closed_Date</th>\n",
       "      <th>Prod_Category</th>\n",
       "      <th>Age_At_Decision</th>\n",
       "    </tr>\n",
       "  </thead>\n",
       "  <tbody>\n",
       "    <tr>\n",
       "      <td>634</td>\n",
       "      <td>1</td>\n",
       "      <td>Existing Client</td>\n",
       "      <td>8187.0</td>\n",
       "      <td>806.0</td>\n",
       "      <td>P_Client</td>\n",
       "      <td>University</td>\n",
       "      <td>Single</td>\n",
       "      <td>NaN</td>\n",
       "      <td>21</td>\n",
       "      <td>33.6</td>\n",
       "      <td>1.0</td>\n",
       "      <td>C</td>\n",
       "      <td>230.0</td>\n",
       "      <td>Branch</td>\n",
       "      <td>Owned</td>\n",
       "      <td>2</td>\n",
       "      <td>249.0</td>\n",
       "      <td>G</td>\n",
       "      <td>7957.0</td>\n",
       "    </tr>\n",
       "    <tr>\n",
       "      <td>5045</td>\n",
       "      <td>0</td>\n",
       "      <td>Existing Client</td>\n",
       "      <td>22857.0</td>\n",
       "      <td>2999.0</td>\n",
       "      <td>NP_Client</td>\n",
       "      <td>Master/PhD</td>\n",
       "      <td>Married</td>\n",
       "      <td>NaN</td>\n",
       "      <td>10</td>\n",
       "      <td>50.0</td>\n",
       "      <td>10.0</td>\n",
       "      <td>C</td>\n",
       "      <td>222.0</td>\n",
       "      <td>Sales</td>\n",
       "      <td>Owned</td>\n",
       "      <td>1</td>\n",
       "      <td>-1.0</td>\n",
       "      <td>B</td>\n",
       "      <td>22635.0</td>\n",
       "    </tr>\n",
       "  </tbody>\n",
       "</table>\n",
       "</div>"
      ],
      "text/plain": [
       "      Y    Customer_Type  BirthDate  Customer_Open_Date   P_Client  \\\n",
       "634   1  Existing Client     8187.0               806.0   P_Client   \n",
       "5045  0  Existing Client    22857.0              2999.0  NP_Client   \n",
       "\n",
       "     Educational_Level Marital_Status  Number_Of_Dependant  \\\n",
       "634         University         Single                  NaN   \n",
       "5045        Master/PhD        Married                  NaN   \n",
       "\n",
       "      Years_At_Residence  Net_Annual_Income  Years_At_Business  \\\n",
       "634                   21               33.6                1.0   \n",
       "5045                  10               50.0               10.0   \n",
       "\n",
       "     Prod_Sub_Category  Prod_Decision_Date  Source Type_Of_Residence  \\\n",
       "634                  C               230.0  Branch             Owned   \n",
       "5045                 C               222.0   Sales             Owned   \n",
       "\n",
       "      Nb_Of_Products  Prod_Closed_Date Prod_Category  Age_At_Decision  \n",
       "634                2             249.0             G           7957.0  \n",
       "5045               1              -1.0             B          22635.0  "
      ]
     },
     "execution_count": 106,
     "metadata": {},
     "output_type": "execute_result"
    }
   ],
   "source": [
    "nb_dep = data['Number_Of_Dependant'].mean()\n",
    "data[data['Number_Of_Dependant'].isna()]"
   ]
  },
  {
   "cell_type": "code",
   "execution_count": 107,
   "metadata": {},
   "outputs": [],
   "source": [
    "data['Number_Of_Dependant'][634] = nb_dep\n",
    "data['Number_Of_Dependant'][5045] = nb_dep"
   ]
  },
  {
   "cell_type": "code",
   "execution_count": 108,
   "metadata": {},
   "outputs": [],
   "source": [
    "annual_inc = data['Net_Annual_Income'].mean()\n",
    "# data[data['Net_Annual_Income'].isna()]\n",
    "data['Net_Annual_Income'][1879] = annual_inc\n",
    "data['Net_Annual_Income'][5144] = annual_inc"
   ]
  },
  {
   "attachments": {},
   "cell_type": "markdown",
   "metadata": {},
   "source": [
    "Except for the Years_At_Business were we use the same trick as before !"
   ]
  },
  {
   "cell_type": "code",
   "execution_count": 109,
   "metadata": {},
   "outputs": [],
   "source": [
    "# data[data['Years_At_Business'].isna()]\n",
    "data['Years_At_Business'][1987] = (data['BirthDate'][1987] / (365)) - 22\n",
    "data['Years_At_Business'][2750] = (data['BirthDate'][2750] / (365)) - 22"
   ]
  },
  {
   "cell_type": "code",
   "execution_count": 110,
   "metadata": {},
   "outputs": [],
   "source": [
    "# in case there is an issue \n",
    "data = data.fillna(value=0)"
   ]
  },
  {
   "attachments": {},
   "cell_type": "markdown",
   "metadata": {},
   "source": [
    "## 1.5. Let's explore the discrete features"
   ]
  },
  {
   "attachments": {},
   "cell_type": "markdown",
   "metadata": {},
   "source": [
    "### 1.5.1. Visualisation\n",
    "\n",
    "Let us observe how the different categorical values are spread."
   ]
  },
  {
   "cell_type": "code",
   "execution_count": 111,
   "metadata": {},
   "outputs": [
    {
     "data": {
      "image/png": "[encoded data removed]",
      "text/plain": [
       "<Figure size 1080x1080 with 8 Axes>"
      ]
     },
     "metadata": {},
     "output_type": "display_data"
    }
   ],
   "source": [
    "Categorical_Values = ['Customer_Type', 'P_Client', 'Educational_Level', 'Marital_Status','Prod_Sub_Category',\n",
    "                     'Source', 'Type_Of_Residence', 'Prod_Category']\n",
    "\n",
    "fig, axs = plt.subplots(4, 2, figsize=(15, 15))\n",
    "for i in range(len(Categorical_Values)):\n",
    "    cat = Categorical_Values[i]\n",
    "    serie = data[cat].value_counts()\n",
    "    labels = list(serie.index.values)\n",
    "    sizes = list(serie.values)\n",
    "    \n",
    "    axs[i//2,i%2].pie(serie, labels = labels,autopct='%1.1f%%')\n",
    "    axs[i//2,i%2].set_title(cat)\n",
    "    axs[i//2,i%2].axis('equal')\n",
    "    \n",
    "plt.show()  "
   ]
  },
  {
   "attachments": {},
   "cell_type": "markdown",
   "metadata": {},
   "source": [
    "### 1.5.2. Analysis - Model Selection\n",
    "\n",
    "There seems to be quite a large amount  of categories here, maby we can try to regroup some together, in order to have a simpler model.\n",
    "\n",
    "Lets take a look at the Category Marital_Status in more detail :"
   ]
  },
  {
   "cell_type": "code",
   "execution_count": 112,
   "metadata": {},
   "outputs": [
    {
     "name": "stdout",
     "output_type": "stream",
     "text": [
      "------------------------------------------------------\n",
      "Category Married\n",
      "Percent of negatives : 6.9186875891583455\n",
      "Size of category : 4206\n",
      "------------------------------------------------------\n",
      "Category Single\n",
      "Percent of negatives : 8.891013384321223\n",
      "Size of category : 1046\n",
      "------------------------------------------------------\n",
      "Category Widowed\n",
      "Percent of negatives : 6.25\n",
      "Size of category : 64\n",
      "------------------------------------------------------\n",
      "Category Separated\n",
      "Percent of negatives : 0.0\n",
      "Size of category : 1\n",
      "------------------------------------------------------\n",
      "Category Divorced\n",
      "Percent of negatives : 7.936507936507942\n",
      "Size of category : 63\n"
     ]
    }
   ],
   "source": [
    "Marital_Categories = ['Married',  'Single', 'Widowed', 'Separated', 'Divorced']\n",
    "for let in Marital_Categories:\n",
    "    print('------------------------------------------------------')\n",
    "    print('Category '+ let)\n",
    "    \n",
    "    serie = data.loc[data['Marital_Status'] == let]['Y'].value_counts()\n",
    "    \n",
    "    print('Percent of negatives : ' + str((1 - serie[0]/serie.sum())*100))\n",
    "    print('Size of category : '+ str(serie.sum()))"
   ]
  },
  {
   "attachments": {},
   "cell_type": "markdown",
   "metadata": {},
   "source": [
    "The category 'Separated' seems of very little importance considering its size. We will regroup it with the 'Divorced' category as they are semantically similar."
   ]
  },
  {
   "cell_type": "code",
   "execution_count": 113,
   "metadata": {},
   "outputs": [],
   "source": [
    "data['Marital_Status'].loc[data['Marital_Status'] == 'Separated'] = 'Separated_Or_Divorced'\n",
    "data['Marital_Status'].loc[data['Marital_Status'] == 'Divorced'] = 'Separated_Or_Divorced'"
   ]
  },
  {
   "attachments": {},
   "cell_type": "markdown",
   "metadata": {},
   "source": [
    "When running our model whilst testing, we found out that quite a few categories of Prod_Category turned out having an extremely weak feature importance. For this reason, we regrouped them in a class called 'Regrouping_Class', allowing us to simplify the model."
   ]
  },
  {
   "cell_type": "code",
   "execution_count": 114,
   "metadata": {},
   "outputs": [],
   "source": [
    "data['Prod_Category'].loc[data['Prod_Category'] == 'A'] = 'Regrouping_Class'\n",
    "data['Prod_Category'].loc[data['Prod_Category'] == 'E'] = 'Regrouping_Class'\n",
    "data['Prod_Category'].loc[data['Prod_Category'] == 'F'] = 'Regrouping_Class'\n",
    "data['Prod_Category'].loc[data['Prod_Category'] == 'G'] = 'Regrouping_Class'\n",
    "data['Prod_Category'].loc[data['Prod_Category'] == 'I'] = 'Regrouping_Class'\n",
    "data['Prod_Category'].loc[data['Prod_Category'] == 'J'] = 'Regrouping_Class'\n"
   ]
  },
  {
   "attachments": {},
   "cell_type": "markdown",
   "metadata": {},
   "source": [
    "These previous manipulations have allowed us to simplify the model. If we wonsider indicators such as BIC, these would now have a better value."
   ]
  },
  {
   "attachments": {},
   "cell_type": "markdown",
   "metadata": {},
   "source": [
    "### 1.5.3. Label Encoding \n",
    "\n",
    "\n",
    "For some variables, we will simply use label encoding. The easiest is to apply label encoding to any categorical variable with only two levels. For these, there is no need to use One-Hot encoding."
   ]
  },
  {
   "cell_type": "code",
   "execution_count": 115,
   "metadata": {},
   "outputs": [
    {
     "data": {
      "text/plain": [
       "LabelEncoder()"
      ]
     },
     "execution_count": 115,
     "metadata": {},
     "output_type": "execute_result"
    }
   ],
   "source": [
    "le = LabelEncoder()\n",
    "le.fit(data['Customer_Type'])"
   ]
  },
  {
   "cell_type": "code",
   "execution_count": 116,
   "metadata": {},
   "outputs": [
    {
     "data": {
      "text/plain": [
       "['Existing Client', 'Non Existing Client']"
      ]
     },
     "execution_count": 116,
     "metadata": {},
     "output_type": "execute_result"
    }
   ],
   "source": [
    "list(le.classes_)"
   ]
  },
  {
   "cell_type": "code",
   "execution_count": 117,
   "metadata": {},
   "outputs": [
    {
     "data": {
      "text/plain": [
       "array([1, 0, 1, ..., 1, 1, 1])"
      ]
     },
     "execution_count": 117,
     "metadata": {},
     "output_type": "execute_result"
    }
   ],
   "source": [
    "le.transform(data['Customer_Type']) "
   ]
  },
  {
   "cell_type": "code",
   "execution_count": 118,
   "metadata": {},
   "outputs": [
    {
     "name": "stdout",
     "output_type": "stream",
     "text": [
      "3 columns were label encoded.\n"
     ]
    }
   ],
   "source": [
    "le = LabelEncoder()\n",
    "le_count = 0\n",
    "\n",
    "# Iterate through the columns\n",
    "for col in data:\n",
    "    if data[col].dtype == 'object':\n",
    "        # If 2 or fewer unique categories\n",
    "        if len(list(data[col].unique())) <= 2:\n",
    "            # Train on the training data\n",
    "            le.fit(data[col])\n",
    "            # Transform both training and testing data\n",
    "            data[col] = le.transform(data[col])\n",
    "            \n",
    "            \n",
    "            # Keep track of how many columns were label encoded\n",
    "            le_count += 1\n",
    "            \n",
    "print('%d columns were label encoded.' % le_count)"
   ]
  },
  {
   "attachments": {},
   "cell_type": "markdown",
   "metadata": {},
   "source": [
    "### 1.5.4. One Hot Encoding \n",
    "\n",
    "For the other variables, there exists a pandas function that allows us to create One Hot encoding immediately."
   ]
  },
  {
   "cell_type": "code",
   "execution_count": 119,
   "metadata": {},
   "outputs": [],
   "source": [
    "data = pd.get_dummies(data)"
   ]
  },
  {
   "attachments": {},
   "cell_type": "markdown",
   "metadata": {},
   "source": [
    "## 1.6. A last glance at our preprocessed dataset "
   ]
  },
  {
   "cell_type": "code",
   "execution_count": 120,
   "metadata": {
    "scrolled": true
   },
   "outputs": [
    {
     "data": {
      "text/html": [
       "<div>\n",
       "<style scoped>\n",
       "    .dataframe tbody tr th:only-of-type {\n",
       "        vertical-align: middle;\n",
       "    }\n",
       "\n",
       "    .dataframe tbody tr th {\n",
       "        vertical-align: top;\n",
       "    }\n",
       "\n",
       "    .dataframe thead th {\n",
       "        text-align: right;\n",
       "    }\n",
       "</style>\n",
       "<table border=\"1\" class=\"dataframe\">\n",
       "  <thead>\n",
       "    <tr style=\"text-align: right;\">\n",
       "      <th></th>\n",
       "      <th>Y</th>\n",
       "      <th>Customer_Type</th>\n",
       "      <th>BirthDate</th>\n",
       "      <th>Customer_Open_Date</th>\n",
       "      <th>P_Client</th>\n",
       "      <th>Number_Of_Dependant</th>\n",
       "      <th>Years_At_Residence</th>\n",
       "      <th>Net_Annual_Income</th>\n",
       "      <th>Years_At_Business</th>\n",
       "      <th>Prod_Decision_Date</th>\n",
       "      <th>...</th>\n",
       "      <th>Type_Of_Residence_Owned</th>\n",
       "      <th>Type_Of_Residence_Parents</th>\n",
       "      <th>Prod_Category_B</th>\n",
       "      <th>Prod_Category_C</th>\n",
       "      <th>Prod_Category_D</th>\n",
       "      <th>Prod_Category_H</th>\n",
       "      <th>Prod_Category_K</th>\n",
       "      <th>Prod_Category_L</th>\n",
       "      <th>Prod_Category_M</th>\n",
       "      <th>Prod_Category_Regrouping_Class</th>\n",
       "    </tr>\n",
       "  </thead>\n",
       "  <tbody>\n",
       "    <tr>\n",
       "      <td>0</td>\n",
       "      <td>0</td>\n",
       "      <td>1</td>\n",
       "      <td>12933.0</td>\n",
       "      <td>295.0</td>\n",
       "      <td>0</td>\n",
       "      <td>3.0</td>\n",
       "      <td>1</td>\n",
       "      <td>36.0</td>\n",
       "      <td>1.0</td>\n",
       "      <td>294.0</td>\n",
       "      <td>...</td>\n",
       "      <td>1</td>\n",
       "      <td>0</td>\n",
       "      <td>1</td>\n",
       "      <td>0</td>\n",
       "      <td>0</td>\n",
       "      <td>0</td>\n",
       "      <td>0</td>\n",
       "      <td>0</td>\n",
       "      <td>0</td>\n",
       "      <td>0</td>\n",
       "    </tr>\n",
       "    <tr>\n",
       "      <td>1</td>\n",
       "      <td>0</td>\n",
       "      <td>0</td>\n",
       "      <td>14054.0</td>\n",
       "      <td>1342.0</td>\n",
       "      <td>1</td>\n",
       "      <td>0.0</td>\n",
       "      <td>12</td>\n",
       "      <td>18.0</td>\n",
       "      <td>2.0</td>\n",
       "      <td>523.0</td>\n",
       "      <td>...</td>\n",
       "      <td>0</td>\n",
       "      <td>1</td>\n",
       "      <td>0</td>\n",
       "      <td>0</td>\n",
       "      <td>0</td>\n",
       "      <td>0</td>\n",
       "      <td>0</td>\n",
       "      <td>0</td>\n",
       "      <td>0</td>\n",
       "      <td>1</td>\n",
       "    </tr>\n",
       "    <tr>\n",
       "      <td>2</td>\n",
       "      <td>0</td>\n",
       "      <td>1</td>\n",
       "      <td>14391.0</td>\n",
       "      <td>275.0</td>\n",
       "      <td>0</td>\n",
       "      <td>2.0</td>\n",
       "      <td>10</td>\n",
       "      <td>36.0</td>\n",
       "      <td>1.0</td>\n",
       "      <td>244.0</td>\n",
       "      <td>...</td>\n",
       "      <td>1</td>\n",
       "      <td>0</td>\n",
       "      <td>1</td>\n",
       "      <td>0</td>\n",
       "      <td>0</td>\n",
       "      <td>0</td>\n",
       "      <td>0</td>\n",
       "      <td>0</td>\n",
       "      <td>0</td>\n",
       "      <td>0</td>\n",
       "    </tr>\n",
       "    <tr>\n",
       "      <td>3</td>\n",
       "      <td>1</td>\n",
       "      <td>0</td>\n",
       "      <td>11077.0</td>\n",
       "      <td>467.0</td>\n",
       "      <td>0</td>\n",
       "      <td>3.0</td>\n",
       "      <td>3</td>\n",
       "      <td>36.0</td>\n",
       "      <td>1.0</td>\n",
       "      <td>514.0</td>\n",
       "      <td>...</td>\n",
       "      <td>0</td>\n",
       "      <td>0</td>\n",
       "      <td>0</td>\n",
       "      <td>0</td>\n",
       "      <td>0</td>\n",
       "      <td>0</td>\n",
       "      <td>0</td>\n",
       "      <td>1</td>\n",
       "      <td>0</td>\n",
       "      <td>0</td>\n",
       "    </tr>\n",
       "    <tr>\n",
       "      <td>4</td>\n",
       "      <td>0</td>\n",
       "      <td>1</td>\n",
       "      <td>21658.0</td>\n",
       "      <td>64.0</td>\n",
       "      <td>0</td>\n",
       "      <td>2.0</td>\n",
       "      <td>1</td>\n",
       "      <td>36.0</td>\n",
       "      <td>1.0</td>\n",
       "      <td>33.0</td>\n",
       "      <td>...</td>\n",
       "      <td>1</td>\n",
       "      <td>0</td>\n",
       "      <td>0</td>\n",
       "      <td>0</td>\n",
       "      <td>1</td>\n",
       "      <td>0</td>\n",
       "      <td>0</td>\n",
       "      <td>0</td>\n",
       "      <td>0</td>\n",
       "      <td>0</td>\n",
       "    </tr>\n",
       "  </tbody>\n",
       "</table>\n",
       "<p>5 rows × 38 columns</p>\n",
       "</div>"
      ],
      "text/plain": [
       "   Y  Customer_Type  BirthDate  Customer_Open_Date  P_Client  \\\n",
       "0  0              1    12933.0               295.0         0   \n",
       "1  0              0    14054.0              1342.0         1   \n",
       "2  0              1    14391.0               275.0         0   \n",
       "3  1              0    11077.0               467.0         0   \n",
       "4  0              1    21658.0                64.0         0   \n",
       "\n",
       "   Number_Of_Dependant  Years_At_Residence  Net_Annual_Income  \\\n",
       "0                  3.0                   1               36.0   \n",
       "1                  0.0                  12               18.0   \n",
       "2                  2.0                  10               36.0   \n",
       "3                  3.0                   3               36.0   \n",
       "4                  2.0                   1               36.0   \n",
       "\n",
       "   Years_At_Business  Prod_Decision_Date  ...  Type_Of_Residence_Owned  \\\n",
       "0                1.0               294.0  ...                        1   \n",
       "1                2.0               523.0  ...                        0   \n",
       "2                1.0               244.0  ...                        1   \n",
       "3                1.0               514.0  ...                        0   \n",
       "4                1.0                33.0  ...                        1   \n",
       "\n",
       "   Type_Of_Residence_Parents  Prod_Category_B  Prod_Category_C  \\\n",
       "0                          0                1                0   \n",
       "1                          1                0                0   \n",
       "2                          0                1                0   \n",
       "3                          0                0                0   \n",
       "4                          0                0                0   \n",
       "\n",
       "   Prod_Category_D  Prod_Category_H  Prod_Category_K  Prod_Category_L  \\\n",
       "0                0                0                0                0   \n",
       "1                0                0                0                0   \n",
       "2                0                0                0                0   \n",
       "3                0                0                0                1   \n",
       "4                1                0                0                0   \n",
       "\n",
       "   Prod_Category_M  Prod_Category_Regrouping_Class  \n",
       "0                0                               0  \n",
       "1                0                               1  \n",
       "2                0                               0  \n",
       "3                0                               0  \n",
       "4                0                               0  \n",
       "\n",
       "[5 rows x 38 columns]"
      ]
     },
     "execution_count": 120,
     "metadata": {},
     "output_type": "execute_result"
    }
   ],
   "source": [
    "data.head()"
   ]
  },
  {
   "attachments": {},
   "cell_type": "markdown",
   "metadata": {},
   "source": [
    "# 2. Data scale and split "
   ]
  },
  {
   "attachments": {},
   "cell_type": "markdown",
   "metadata": {},
   "source": [
    "## 2.1. Split the data: train, validate, test\n",
    "\n",
    "In a real life situation as in a kaggle competition, we do not know the target values of the test set. To be in the same situation, we split our dataset in three parts: the train set, used to train our models, the validation set, used to estimate the quality of our model during our researches and the test set, which will only be used at the very end to see the final performance of our model."
   ]
  },
  {
   "cell_type": "code",
   "execution_count": 121,
   "metadata": {},
   "outputs": [],
   "source": [
    "features_name = data.columns[1:]\n",
    "y, X = data[['Y']].values[:,0], data[features_name].values"
   ]
  },
  {
   "cell_type": "code",
   "execution_count": 122,
   "metadata": {},
   "outputs": [],
   "source": [
    "X_tmp, X_test, y_tmp, y_test = train_test_split(X, y, test_size=0.2, random_state=42)\n",
    "X_train, X_val, y_train, y_val = train_test_split(X_tmp, y_tmp, test_size=0.2, random_state=42)"
   ]
  },
  {
   "cell_type": "code",
   "execution_count": 123,
   "metadata": {},
   "outputs": [
    {
     "data": {
      "text/plain": [
       "(0.07319198373511472, 0.06736353077816493, 0.07713754646840149)"
      ]
     },
     "execution_count": 123,
     "metadata": {},
     "output_type": "execute_result"
    }
   ],
   "source": [
    "np.mean(y_train), np.mean(y_val), np.mean(y_test)"
   ]
  },
  {
   "attachments": {},
   "cell_type": "markdown",
   "metadata": {},
   "source": [
    "## 2.2. Fit the scaler on the train data\n",
    "\n",
    "To act like in a real situation, we scale on the train and not on the whole data set: when the bank create the model, it does not have access to the data that it will be doing prediction on in a few months..."
   ]
  },
  {
   "cell_type": "code",
   "execution_count": 124,
   "metadata": {},
   "outputs": [
    {
     "data": {
      "text/plain": [
       "StandardScaler(copy=True, with_mean=True, with_std=True)"
      ]
     },
     "execution_count": 124,
     "metadata": {},
     "output_type": "execute_result"
    }
   ],
   "source": [
    "scaler = StandardScaler()\n",
    "scaler.fit(X_train)"
   ]
  },
  {
   "cell_type": "code",
   "execution_count": 125,
   "metadata": {},
   "outputs": [
    {
     "data": {
      "text/plain": [
       "array([[1.0000e+00, 1.1775e+04, 3.0700e+02, ..., 0.0000e+00, 0.0000e+00,\n",
       "        0.0000e+00],\n",
       "       [1.0000e+00, 9.6780e+03, 5.6900e+02, ..., 0.0000e+00, 0.0000e+00,\n",
       "        0.0000e+00],\n",
       "       [1.0000e+00, 2.0380e+04, 1.2200e+02, ..., 0.0000e+00, 0.0000e+00,\n",
       "        0.0000e+00],\n",
       "       ...,\n",
       "       [1.0000e+00, 9.8340e+03, 4.8700e+02, ..., 0.0000e+00, 0.0000e+00,\n",
       "        0.0000e+00],\n",
       "       [1.0000e+00, 1.4493e+04, 2.2700e+02, ..., 0.0000e+00, 0.0000e+00,\n",
       "        0.0000e+00],\n",
       "       [0.0000e+00, 1.8087e+04, 9.3400e+03, ..., 0.0000e+00, 0.0000e+00,\n",
       "        0.0000e+00]])"
      ]
     },
     "execution_count": 125,
     "metadata": {},
     "output_type": "execute_result"
    }
   ],
   "source": [
    "X_train"
   ]
  },
  {
   "cell_type": "code",
   "execution_count": 126,
   "metadata": {},
   "outputs": [],
   "source": [
    "# transform train and validate \n",
    "X_train_s = scaler.transform(X_train)\n",
    "X_val_s = scaler.transform(X_val)"
   ]
  },
  {
   "attachments": {},
   "cell_type": "markdown",
   "metadata": {},
   "source": [
    "# 3. Comparison of different models \n",
    "\n",
    "Let's fit three models and compare their performances"
   ]
  },
  {
   "cell_type": "code",
   "execution_count": 127,
   "metadata": {},
   "outputs": [],
   "source": [
    "from sklearn.linear_model import LogisticRegression\n",
    "from sklearn.tree import DecisionTreeClassifier\n",
    "import xgboost as xgb"
   ]
  },
  {
   "attachments": {},
   "cell_type": "markdown",
   "metadata": {},
   "source": [
    "## 3.1. Use a Logistic Regression"
   ]
  },
  {
   "cell_type": "code",
   "execution_count": 128,
   "metadata": {},
   "outputs": [
    {
     "name": "stdout",
     "output_type": "stream",
     "text": [
      "\n",
      " ---------------- Model Report ----------------\n",
      "\n",
      " --- TRAIN\n",
      "Accuracy :               0.946267789718269\n",
      "ROC AUC (Train):         0.931651768615103\n",
      "\n",
      " --- VALIDATE\n",
      "Accuracy :               0.9454123112659698\n",
      "ROC AUC (Validate):      0.9195688581612058\n"
     ]
    }
   ],
   "source": [
    "model1 = LogisticRegression()\n",
    "model1.fit(X_train_s, y_train)\n",
    "\n",
    "y_train_pred = model1.predict(X_train_s)\n",
    "y_train_predprob = model1.predict_proba(X_train_s)[:,1]\n",
    "\n",
    "y_val_pred = model1.predict(X_val_s)\n",
    "y_val_predprob = model1.predict_proba(X_val_s)[:,1]\n",
    "\n",
    "# Handle the global report of the model :\n",
    "\n",
    "print(\"\\n ---------------- Model Report ----------------\")\n",
    "print(\"\\n --- TRAIN\")\n",
    "print(\"Accuracy :               {}\".format(metrics.accuracy_score(y_train, y_train_pred)))\n",
    "print(\"ROC AUC (Train):         {}\".format(metrics.roc_auc_score(y_train, y_train_predprob)))\n",
    "print(\"\\n --- VALIDATE\")\n",
    "print(\"Accuracy :               {}\".format(metrics.accuracy_score(y_val, y_val_pred)))\n",
    "print(\"ROC AUC (Validate):      {}\".format(metrics.roc_auc_score(y_val, y_val_predprob)))"
   ]
  },
  {
   "attachments": {},
   "cell_type": "markdown",
   "metadata": {},
   "source": [
    "## 3.2. Use a Decision Tree Classifier"
   ]
  },
  {
   "cell_type": "code",
   "execution_count": 129,
   "metadata": {
    "scrolled": true
   },
   "outputs": [
    {
     "name": "stdout",
     "output_type": "stream",
     "text": [
      "\n",
      " ---------------- Model Report ----------------\n",
      "\n",
      " --- TRAIN\n",
      "Accuracy :               0.9561428986349114\n",
      "ROC AUC (Train):         0.9563174951376142\n",
      "\n",
      " --- VALIDATE\n",
      "Accuracy :               0.9372822299651568\n",
      "ROC AUC (Validate):      0.9390110362004551\n"
     ]
    }
   ],
   "source": [
    "model2 = DecisionTreeClassifier(random_state=0, max_depth=5)\n",
    "model2.fit(X_train_s, y_train)\n",
    "\n",
    "y_train_pred = model2.predict(X_train_s)\n",
    "y_train_predprob = model2.predict_proba(X_train_s)[:,1]\n",
    "\n",
    "y_val_pred = model2.predict(X_val_s)\n",
    "y_val_predprob = model2.predict_proba(X_val_s)[:,1]\n",
    "\n",
    "# Handle the global report of the model :\n",
    "\n",
    "print(\"\\n ---------------- Model Report ----------------\")\n",
    "print(\"\\n --- TRAIN\")\n",
    "print(\"Accuracy :               {}\".format(metrics.accuracy_score(y_train, y_train_pred)))\n",
    "print(\"ROC AUC (Train):         {}\".format(metrics.roc_auc_score(y_train, y_train_predprob)))\n",
    "print(\"\\n --- VALIDATE\")\n",
    "print(\"Accuracy :               {}\".format(metrics.accuracy_score(y_val, y_val_pred)))\n",
    "print(\"ROC AUC (Validate):      {}\".format(metrics.roc_auc_score(y_val, y_val_predprob)))"
   ]
  },
  {
   "attachments": {},
   "cell_type": "markdown",
   "metadata": {},
   "source": [
    "## 3.3. Use a XGBoost Classifier"
   ]
  },
  {
   "cell_type": "code",
   "execution_count": 130,
   "metadata": {},
   "outputs": [
    {
     "name": "stdout",
     "output_type": "stream",
     "text": [
      "\n",
      " ---------------- Model Report ----------------\n",
      "\n",
      " --- TRAIN\n",
      "Accuracy :               0.9581760092942202\n",
      "ROC AUC (Train):         0.9651251287102118\n",
      "\n",
      " --- VALIDATE\n",
      "Accuracy :               0.9547038327526133\n",
      "ROC AUC (Validate):      0.9525701034912182\n"
     ]
    }
   ],
   "source": [
    "# use xgboost \n",
    "model3 = xgb.XGBClassifier(n_estimators = 50)\n",
    "\n",
    "model3.fit(X_train_s, y_train)\n",
    "\n",
    "# Predict training and validation set:\n",
    "y_train_pred = model3.predict(X_train_s)\n",
    "y_train_predprob = model3.predict_proba(X_train_s)[:,1]\n",
    "\n",
    "y_val_pred = model3.predict(X_val_s)\n",
    "y_val_predprob = model3.predict_proba(X_val_s)[:,1]\n",
    "\n",
    "# Handle the global report of the model :\n",
    "\n",
    "print(\"\\n ---------------- Model Report ----------------\")\n",
    "print(\"\\n --- TRAIN\")\n",
    "print(\"Accuracy :               {}\".format(metrics.accuracy_score(y_train, y_train_pred)))\n",
    "print(\"ROC AUC (Train):         {}\".format(metrics.roc_auc_score(y_train, y_train_predprob)))\n",
    "print(\"\\n --- VALIDATE\")\n",
    "print(\"Accuracy :               {}\".format(metrics.accuracy_score(y_val, y_val_pred)))\n",
    "print(\"ROC AUC (Validate):      {}\".format(metrics.roc_auc_score(y_val, y_val_predprob)))"
   ]
  },
  {
   "attachments": {},
   "cell_type": "markdown",
   "metadata": {},
   "source": [
    "We can observe that we get the best ROC AUC Score while using the **XGBoost Classifier**, hence we will use it as a final model. We still observe some overfitting as the results on the train set are consistently better than on the validation set, which is why it might be interesting to do some **parameter tuning**. "
   ]
  },
  {
   "attachments": {},
   "cell_type": "markdown",
   "metadata": {},
   "source": [
    "# 4. Tuning of the model \n",
    "XGBoost is known as a very consistent model. Many of its hyperparameters do not need a lot of tuning. Nevertheless, the number of estimators is the one that can have a big influence on the final performance of the model. Let's tune it. "
   ]
  },
  {
   "cell_type": "code",
   "execution_count": 131,
   "metadata": {},
   "outputs": [
    {
     "data": {
      "application/vnd.jupyter.widget-view+json": {
       "model_id": "40ea8a3f26124884a0489d38777d1344",
       "version_major": 2,
       "version_minor": 0
      },
      "text/plain": [
       "HBox(children=(IntProgress(value=0, max=20), HTML(value='')))"
      ]
     },
     "metadata": {},
     "output_type": "display_data"
    },
    {
     "name": "stdout",
     "output_type": "stream",
     "text": [
      "\n"
     ]
    }
   ],
   "source": [
    "N_ESTIMATORS_RANGE = [10, 20, 30, 35, 40, 45, 50, 55, 60, 65, 70, 80, 90, 100, 110, 120, 130, 140, 150, 200]\n",
    "train_scores = []\n",
    "validate_scores = []\n",
    "\n",
    "for n_estim in tqdm_notebook(N_ESTIMATORS_RANGE):\n",
    "    model = xgb.XGBClassifier(n_estimators = n_estim)\n",
    "    model.fit(X_train_s, y_train)\n",
    "\n",
    "    # Predict training and validation set:\n",
    "    y_train_predprob = model.predict_proba(X_train_s)[:,1]\n",
    "    y_val_predprob = model.predict_proba(X_val_s)[:,1]\n",
    "\n",
    "    train_scores.append(metrics.roc_auc_score(y_train, y_train_predprob))\n",
    "    validate_scores.append(metrics.roc_auc_score(y_val, y_val_predprob))"
   ]
  },
  {
   "cell_type": "code",
   "execution_count": 132,
   "metadata": {},
   "outputs": [
    {
     "data": {
      "image/png": "[encoded data removed]",
      "text/plain": [
       "<Figure size 1080x360 with 1 Axes>"
      ]
     },
     "metadata": {
      "needs_background": "light"
     },
     "output_type": "display_data"
    }
   ],
   "source": [
    "fig = plt.figure(figsize=(15, 5))\n",
    "\n",
    "plt.plot(N_ESTIMATORS_RANGE, train_scores)\n",
    "plt.plot(N_ESTIMATORS_RANGE, validate_scores)\n",
    "\n",
    "plt.title(\"Choice of the best number of estimators for our final model\")\n",
    "plt.ylabel('ROC AUC Score')\n",
    "plt.xlabel(\"Number of estimators used\")\n",
    "\n",
    "plt.grid()\n",
    "plt.show()"
   ]
  },
  {
   "attachments": {},
   "cell_type": "markdown",
   "metadata": {},
   "source": [
    "We were previously working with n_estimators = 50. This plot shows that we could reduce overfitting with a choice of **n_estimators = 30**. Hence we now run our new model, which is the final one ! To be even more precise, we could use cross validation but here this quick approach provides us an acceptable result. "
   ]
  },
  {
   "attachments": {},
   "cell_type": "markdown",
   "metadata": {},
   "source": [
    "### Let's train our final model with the new hyper parameter. "
   ]
  },
  {
   "cell_type": "code",
   "execution_count": 133,
   "metadata": {},
   "outputs": [
    {
     "name": "stdout",
     "output_type": "stream",
     "text": [
      "\n",
      " ---------------- Model Report ----------------\n",
      "\n",
      " --- TRAIN\n",
      "Accuracy :               0.9535288992158002\n",
      "ROC AUC (Train):         0.9529927922281417\n",
      "\n",
      " --- VALIDATE\n",
      "Accuracy :               0.9547038327526133\n",
      "ROC AUC (Validate):      0.9516897839996565\n",
      "\n",
      "\n",
      "\n",
      " \t\t\t----------------------------- Feature Importances -----------------------------\n"
     ]
    },
    {
     "data": {
      "image/png": "[encoded data removed]",
      "text/plain": [
       "<Figure size 1080x432 with 1 Axes>"
      ]
     },
     "metadata": {
      "needs_background": "light"
     },
     "output_type": "display_data"
    }
   ],
   "source": [
    "# use xgboost\n",
    "final_model = xgb.XGBClassifier(n_estimators = 30)\n",
    "\n",
    "final_model.fit(X_train_s, y_train)\n",
    "\n",
    "# Predict training and validation set:\n",
    "y_train_pred = final_model.predict(X_train_s)\n",
    "y_train_predprob = final_model.predict_proba(X_train_s)[:,1]\n",
    "\n",
    "y_val_pred = final_model.predict(X_val_s)\n",
    "y_val_predprob = final_model.predict_proba(X_val_s)[:,1]\n",
    "\n",
    "# Handle the global report of the model :\n",
    "\n",
    "print(\"\\n ---------------- Model Report ----------------\")\n",
    "print(\"\\n --- TRAIN\")\n",
    "print(\"Accuracy :               {}\".format(metrics.accuracy_score(y_train, y_train_pred)))\n",
    "print(\"ROC AUC (Train):         {}\".format(metrics.roc_auc_score(y_train, y_train_predprob)))\n",
    "print(\"\\n --- VALIDATE\")\n",
    "print(\"Accuracy :               {}\".format(metrics.accuracy_score(y_val, y_val_pred)))\n",
    "print(\"ROC AUC (Validate):      {}\".format(metrics.roc_auc_score(y_val, y_val_predprob)))\n",
    "\n",
    "print(\"\\n\\n\\n \\t\\t\\t----------------------------- Feature Importances -----------------------------\")\n",
    "\n",
    "feat_imp = pd.Series(final_model.feature_importances_, index=features_name).sort_values(ascending=False)\n",
    "feat_imp.plot(kind='bar', figsize=(15, 6))\n",
    "plt.ylabel('Feature Importance Score')\n",
    "plt.show()"
   ]
  },
  {
   "attachments": {},
   "cell_type": "markdown",
   "metadata": {},
   "source": [
    "# 5. Conclusion "
   ]
  },
  {
   "attachments": {},
   "cell_type": "markdown",
   "metadata": {},
   "source": [
    "To conclude, we will use our Test Set to make sure that our models are efficient classifiers. Our most effective model seems to be the XGBOOST model. Let's see how it performs on the Test Set, now that we have tuned the hyperparameters."
   ]
  },
  {
   "cell_type": "code",
   "execution_count": 134,
   "metadata": {},
   "outputs": [],
   "source": [
    "#Scaling the test set\n",
    "X_test_s = scaler.transform(X_test)"
   ]
  },
  {
   "cell_type": "code",
   "execution_count": 135,
   "metadata": {},
   "outputs": [
    {
     "name": "stdout",
     "output_type": "stream",
     "text": [
      "\n",
      " ---------------- Final Results ----------------\n",
      "\n",
      " --- TEST\n",
      "Accuracy :               0.9451672862453532\n",
      "ROC AUC (Test):         0.9304650626675888\n"
     ]
    }
   ],
   "source": [
    "y_test_pred = final_model.predict(X_test_s)\n",
    "y_test_predprob = final_model.predict_proba(X_test_s)[:,1]\n",
    "\n",
    "print(\"\\n ---------------- Final Results ----------------\")\n",
    "print(\"\\n --- TEST\")\n",
    "print(\"Accuracy :               {}\".format(metrics.accuracy_score(y_test, y_test_pred)))\n",
    "print(\"ROC AUC (Test):         {}\".format(metrics.roc_auc_score(y_test, y_test_predprob)))"
   ]
  },
  {
   "attachments": {},
   "cell_type": "markdown",
   "metadata": {},
   "source": [
    "## Plotting the ROC curve"
   ]
  },
  {
   "cell_type": "code",
   "execution_count": 136,
   "metadata": {},
   "outputs": [
    {
     "data": {
      "image/png": "[encoded data removed]",
      "text/plain": [
       "<Figure size 1080x360 with 1 Axes>"
      ]
     },
     "metadata": {
      "needs_background": "light"
     },
     "output_type": "display_data"
    }
   ],
   "source": [
    "fpr, tpr, threshold = metrics.roc_curve(y_test, y_test_predprob)\n",
    "roc_auc = metrics.auc(fpr, tpr)\n",
    "\n",
    "fig = plt.figure(figsize=(15, 5))\n",
    "\n",
    "plt.title('Receiver Operating Characteristic')\n",
    "plt.plot(fpr, tpr, 'b', label = 'AUC = %0.2f' % roc_auc)\n",
    "plt.legend(loc = 'lower right')\n",
    "plt.plot([0, 1], [0, 1],'r--')\n",
    "plt.xlim([0, 1])\n",
    "plt.ylim([0, 1])\n",
    "plt.ylabel('True Positive Rate')\n",
    "plt.xlabel('False Positive Rate')\n",
    "plt.show()"
   ]
  },
  {
   "attachments": {},
   "cell_type": "markdown",
   "metadata": {},
   "source": [
    "The appearance of this ROC curve indicates a well-performing model, implying that the distribution curves of True Positives and True Negatives scarcely intersect. Despite a slight reduction in the AUC ROC Score compared to the validation set, it's an impressive outcome, and the degree of overfitting is kept within acceptable limits due to our careful hyperparameter tuning and our endeavor to diminish the model's complexity.\n",
    "\n",
    "Consequently, this notebook presents a relatively straightforward yet effective approach to constructing a model for predicting credit default."
   ]
  }
 ],
 "metadata": {
  "kernelspec": {
   "display_name": "Python 3",
   "language": "python",
   "name": "python3"
  },
  "language_info": {
   "codemirror_mode": {
    "name": "ipython",
    "version": 3
   },
   "file_extension": ".py",
   "mimetype": "text/x-python",
   "name": "python",
   "nbconvert_exporter": "python",
   "pygments_lexer": "ipython3",
   "version": "3.7.4"
  }
 },
 "nbformat": 4,
 "nbformat_minor": 2
}
